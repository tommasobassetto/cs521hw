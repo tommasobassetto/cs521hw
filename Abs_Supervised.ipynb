{
  "cells": [
    {
      "cell_type": "markdown",
      "id": "jMaWlt7aUCa_",
      "metadata": {
        "id": "jMaWlt7aUCa_"
      },
      "source": [
        "## Imports and Boilerplate"
      ]
    },
    {
      "cell_type": "code",
      "source": [
        "from google.colab import drive\n",
        "drive.mount('/content/drive/')\n",
        "!cp -r drive/MyDrive/learning-interval-transformers/dl2 .\n",
        "!cp -r drive/MyDrive/learning-interval-transformers/datasets ."
      ],
      "metadata": {
        "colab": {
          "base_uri": "https://localhost:8080/"
        },
        "id": "hBDk1V_0hc0E",
        "outputId": "e62c4fa5-7cdf-4c24-bd5e-f4839c54a42d"
      },
      "id": "hBDk1V_0hc0E",
      "execution_count": 19,
      "outputs": [
        {
          "output_type": "stream",
          "name": "stdout",
          "text": [
            "Drive already mounted at /content/drive/; to attempt to forcibly remount, call drive.mount(\"/content/drive/\", force_remount=True).\n"
          ]
        }
      ]
    },
    {
      "cell_type": "code",
      "source": [
        "!pip install functional scipy textx configargparse"
      ],
      "metadata": {
        "colab": {
          "base_uri": "https://localhost:8080/"
        },
        "id": "PbF2asI6jBV2",
        "outputId": "6638a5f7-7f5a-4382-d56b-667c77b0b956"
      },
      "id": "PbF2asI6jBV2",
      "execution_count": 20,
      "outputs": [
        {
          "output_type": "stream",
          "name": "stdout",
          "text": [
            "Requirement already satisfied: functional in /usr/local/lib/python3.10/dist-packages (0.4)\n",
            "Requirement already satisfied: scipy in /usr/local/lib/python3.10/dist-packages (1.11.4)\n",
            "Requirement already satisfied: textx in /usr/local/lib/python3.10/dist-packages (4.0.1)\n",
            "Requirement already satisfied: configargparse in /usr/local/lib/python3.10/dist-packages (1.7)\n",
            "Requirement already satisfied: numpy<1.28.0,>=1.21.6 in /usr/local/lib/python3.10/dist-packages (from scipy) (1.23.5)\n",
            "Requirement already satisfied: Arpeggio>=2.0.0 in /usr/local/lib/python3.10/dist-packages (from textx) (2.0.2)\n"
          ]
        }
      ]
    },
    {
      "cell_type": "code",
      "execution_count": 21,
      "id": "Lsm2GsG3UCbD",
      "metadata": {
        "id": "Lsm2GsG3UCbD"
      },
      "outputs": [],
      "source": [
        "from dl2 import dl2lib\n",
        "\n",
        "import json\n",
        "import matplotlib.pyplot as plt\n",
        "import torch\n",
        "\n",
        "# Basic Model Class\n",
        "class BasicModel(torch.nn.Module):\n",
        "    def __init__(self, input_size, hidden_sizes, output_size):\n",
        "        super(BasicModel, self).__init__()\n",
        "\n",
        "        assert len(hidden_sizes) >= 1\n",
        "\n",
        "        # Create hidden layers dynamically using a loop\n",
        "        layers = []\n",
        "        for i in range(len(hidden_sizes)):\n",
        "            if i == 0:\n",
        "                # First hidden layer connected to the input\n",
        "                layers.append(torch.nn.Linear(input_size, hidden_sizes[i]))\n",
        "            else:\n",
        "                # Subsequent hidden layers connected to the previous hidden layer\n",
        "                layers.append(torch.nn.Linear(hidden_sizes[i-1], hidden_sizes[i]))\n",
        "\n",
        "            layers.append(torch.nn.ReLU())\n",
        "\n",
        "        # Output layer\n",
        "        layers.append(torch.nn.Linear(hidden_sizes[len(hidden_sizes) - 1], output_size))\n",
        "\n",
        "        # Combine all layers into a sequential module\n",
        "        self.layers = torch.nn.Sequential(*layers)\n",
        "\n",
        "    def forward(self, inp):\n",
        "        return self.layers(inp)\n",
        "\n",
        "# Model class that works on intervals\n",
        "class IntervalNN(BasicModel):\n",
        "    def __init__(self, num_interval_inputs, hidden_sizes, output_size):\n",
        "        super().__init__(2*num_interval_inputs, hidden_sizes, output_size)\n",
        "\n",
        "    def forward(self, *intervs):\n",
        "        if len(intervs) == 1:\n",
        "            inp = intervs[0]\n",
        "        else:\n",
        "            inp = torch.cat(tuple(intervs), dim = 1)\n",
        "\n",
        "        return super().forward(inp)"
      ]
    },
    {
      "cell_type": "markdown",
      "id": "ERxewXseUCbH",
      "metadata": {
        "id": "ERxewXseUCbH"
      },
      "source": [
        "## Loading the data"
      ]
    },
    {
      "cell_type": "code",
      "execution_count": 22,
      "id": "55FeXGEuUCbJ",
      "metadata": {
        "id": "55FeXGEuUCbJ"
      },
      "outputs": [],
      "source": [
        "def load_data(file_name):\n",
        "    with open(file_name, \"r\") as f:\n",
        "        obj = json.load(f)\n",
        "\n",
        "    intervs = []\n",
        "    abs_ints = []\n",
        "\n",
        "    for o in obj:\n",
        "        intervs.append(torch.tensor(o[\"interv\"]))\n",
        "        abs_ints.append(torch.tensor(o[\"abs\"]))\n",
        "\n",
        "\n",
        "    intervs = torch.stack(intervs, dim = 0)\n",
        "    abs_ints = torch.stack(abs_ints, dim = 0)\n",
        "\n",
        "    return intervs, abs_ints\n",
        "\n",
        "intervs, abs_ints = load_data(\"datasets/interv_abs_train_data.json\")"
      ]
    },
    {
      "cell_type": "markdown",
      "id": "IvMmyABwUCbK",
      "metadata": {
        "id": "IvMmyABwUCbK"
      },
      "source": [
        "## Supervised training for sound learning of Interval Abs"
      ]
    },
    {
      "cell_type": "code",
      "execution_count": 32,
      "id": "24BJ4actUCbL",
      "metadata": {
        "id": "24BJ4actUCbL",
        "colab": {
          "base_uri": "https://localhost:8080/",
          "height": 553
        },
        "outputId": "691aba29-1f8f-4f52-b0a2-d0faf5ca454b"
      },
      "outputs": [
        {
          "output_type": "stream",
          "name": "stdout",
          "text": [
            "0\n",
            "100\n",
            "200\n",
            "300\n",
            "400\n",
            "0.0\n"
          ]
        },
        {
          "output_type": "display_data",
          "data": {
            "text/plain": [
              "<Figure size 640x480 with 1 Axes>"
            ],
            "image/png": "[encoded data removed]"
          },
          "metadata": {}
        }
      ],
      "source": [
        "def train_sound_abs_model(model, opt, epochs, intervs, abs_ints):\n",
        "    loss_history = []\n",
        "\n",
        "    for _ in range(epochs):\n",
        "        opt.zero_grad()\n",
        "        outp = model(intervs)\n",
        "\n",
        "        # Write the logical constraint for soundness here using the DL library\n",
        "        soundness_loss = torch.sum(dl2lib.And([dl2lib.LEQ(outp[:,0], abs_ints[:,0]), dl2lib.GEQ(outp[:,1], abs_ints[:,1])]).loss(outp))\n",
        "\n",
        "        loss_history.append(soundness_loss.item())\n",
        "        soundness_loss.backward()\n",
        "        opt.step()\n",
        "\n",
        "        if _ % 100 == 0:\n",
        "          print(_)\n",
        "\n",
        "    return loss_history\n",
        "\n",
        "sound_abs_model = IntervalNN(1,[8,16,8],2)\n",
        "lr = 0.04\n",
        "epochs = 500\n",
        "opt = torch.optim.Adam(sound_abs_model.parameters(), lr)\n",
        "loss_history = train_sound_abs_model(sound_abs_model, opt, epochs, intervs, abs_ints)\n",
        "print(loss_history[-1])\n",
        "\n",
        "plt.plot(loss_history)\n",
        "plt.xlabel('optimization step')\n",
        "plt.ylabel('loss');\n",
        "plt.show()"
      ]
    },
    {
      "cell_type": "markdown",
      "id": "Qx2Axna5UCbN",
      "metadata": {
        "id": "Qx2Axna5UCbN"
      },
      "source": [
        "## Evaluate model's quality"
      ]
    },
    {
      "cell_type": "markdown",
      "id": "3_jkW3ryUCbN",
      "metadata": {
        "id": "3_jkW3ryUCbN"
      },
      "source": [
        "After training our model, we check its quality by measuring 2 metrics:\n",
        "1. Soundness: We use our model to find the absolute of the intervals in a test set and then check if the returned absolute interval is sound. As we have the ground truths in the test set, this is easy to check; the ground truth abs interval should be inside the predicted interval.\n",
        "2. Imprecision: For the cases where the predicted answer is sound, we also measure how big the predicted interval is as compared to the ground truth.\n",
        "\n",
        "Ideally, we want a model that is very sound and as precise it can be, i.e. one with **high soundness and low imprecision**."
      ]
    },
    {
      "cell_type": "code",
      "execution_count": 24,
      "id": "hfkKw7AvUCbO",
      "metadata": {
        "id": "hfkKw7AvUCbO",
        "outputId": "a536c5e9-2952-481a-fdf8-9bc6638a8a85",
        "colab": {
          "base_uri": "https://localhost:8080/"
        }
      },
      "outputs": [
        {
          "output_type": "stream",
          "name": "stdout",
          "text": [
            "Soundness Measure: 100.0  (5000 out of 5000)\n",
            "Imprecision Measure: 3683.1118395812987  (18415559.197906494 diff. in 5000 cases)\n"
          ]
        }
      ],
      "source": [
        "def evaluate_model(model):\n",
        "    # load data from test file\n",
        "    intervs, abs_ints = load_data(\"datasets/interv_abs_test_data.json\")\n",
        "\n",
        "    # get output from the model\n",
        "    output = model(intervs)\n",
        "\n",
        "    # Measuring soundness!\n",
        "    ctr = 0\n",
        "    unsound_ctr = 0\n",
        "\n",
        "    # Difference in the ranges of intervals (only count in cases of sound answers)\n",
        "    precision_sum = 0\n",
        "\n",
        "    for into, intg in zip(output, abs_ints):\n",
        "        ctr += 1\n",
        "\n",
        "        if (into[0] > intg[0]) or (into[1] < intg[1]):\n",
        "            unsound_ctr += 1\n",
        "        else:\n",
        "            # If sound, measure precision\n",
        "            precision_sum += ((into[1]-into[0]) - (intg[1] - intg[0])).item()\n",
        "\n",
        "\n",
        "    print(\"Soundness Measure:\" , ((ctr-unsound_ctr)/ctr)*100, \" ({} out of {})\".format(ctr-unsound_ctr, ctr))\n",
        "\n",
        "    if ctr != unsound_ctr:\n",
        "        print(\"Imprecision Measure:\" , (precision_sum/(ctr-unsound_ctr)), \" ({} diff. in {} cases)\".format(precision_sum, ctr-unsound_ctr))\n",
        "    else:\n",
        "        print(\"Imprecision Measure: -\")\n",
        "\n",
        "evaluate_model(sound_abs_model)"
      ]
    },
    {
      "cell_type": "markdown",
      "id": "_dSxXThaUCbQ",
      "metadata": {
        "id": "_dSxXThaUCbQ"
      },
      "source": [
        "If the soundness loss is implemented correctly, then we will observe a very high soundness accuracy of the model. But observe that the imprecision measure is also very high. This is expected because in our loss method, we only optimized for soundness. This made the model learn very large intervals like say (0, 1000), when the ground truth abs is (1, 80). We will now handle this by also including a precision penalty in the loss method, which should incentivize the model to learn smaller intervals."
      ]
    },
    {
      "cell_type": "markdown",
      "id": "MBqOy3CxUCbR",
      "metadata": {
        "id": "MBqOy3CxUCbR"
      },
      "source": [
        "## Supervised training for sound *and precise* learning of Interval Abs\n",
        "\n",
        "Add a precision loss to the training. The combined loss is a weighted combination of the soundness and precision losses. We set the weights 20:1 for now."
      ]
    },
    {
      "cell_type": "code",
      "execution_count": 30,
      "id": "oKkAu5eEUCbS",
      "metadata": {
        "id": "oKkAu5eEUCbS",
        "outputId": "4eae97d4-05d2-4019-e434-09123a1793e4",
        "colab": {
          "base_uri": "https://localhost:8080/",
          "height": 482
        }
      },
      "outputs": [
        {
          "output_type": "stream",
          "name": "stdout",
          "text": [
            "148524.375\n"
          ]
        },
        {
          "output_type": "display_data",
          "data": {
            "text/plain": [
              "<Figure size 640x480 with 1 Axes>"
            ],
            "image/png": "[encoded data removed]"
          },
          "metadata": {}
        }
      ],
      "source": [
        "def train_sound_and_prec_abs_model(model, opt, epochs, intervs, abs_intervs, soundness_weight, precision_weight):\n",
        "    loss_history = []\n",
        "\n",
        "    for _ in range(epochs):\n",
        "        opt.zero_grad()\n",
        "        outp = model(intervs)\n",
        "\n",
        "        # Write the same soundness loss as before here\n",
        "        soundness_loss = torch.sum(dl2lib.And([dl2lib.LEQ(outp[:,0], abs_intervs[:,0]), dl2lib.GEQ(outp[:,1], abs_intervs[:,1])]).loss(outp))\n",
        "        # Write the precision loss here\n",
        "        #\n",
        "        precision_loss = torch.sum(dl2lib.And([dl2lib.EQ(outp[:,0], abs_intervs[:,0]), dl2lib.EQ(outp[:,1], abs_intervs[:,1])]).loss(outp))\n",
        "\n",
        "        loss = soundness_weight * soundness_loss + precision_weight * precision_loss\n",
        "        loss_history.append(loss.item())\n",
        "        loss.backward()\n",
        "        opt.step()\n",
        "\n",
        "    return loss_history\n",
        "\n",
        "sound_and_prec_abs_model = IntervalNN(1,[8,16,8],2)\n",
        "lr = 0.04\n",
        "epochs = 500\n",
        "opt = torch.optim.Adam(sound_and_prec_abs_model.parameters(), lr)\n",
        "sw = 20\n",
        "pw = 1\n",
        "loss_history = train_sound_and_prec_abs_model(sound_and_prec_abs_model, opt, epochs, intervs, abs_ints, sw, pw)\n",
        "print(loss_history[-1])\n",
        "\n",
        "plt.plot(loss_history)\n",
        "plt.xlabel('optimization step')\n",
        "plt.ylabel('loss');\n",
        "plt.show()"
      ]
    },
    {
      "cell_type": "code",
      "execution_count": 28,
      "id": "l4GwJSMIUCbT",
      "metadata": {
        "id": "l4GwJSMIUCbT",
        "outputId": "cc4a2ae6-d0a7-4528-b3c7-c27d49a333eb",
        "colab": {
          "base_uri": "https://localhost:8080/"
        }
      },
      "outputs": [
        {
          "output_type": "stream",
          "name": "stdout",
          "text": [
            "Soundness Measure: 61.78  (3089 out of 5000)\n",
            "Imprecision Measure: 5.774499170600345  (17837.427937984467 diff. in 3089 cases)\n"
          ]
        }
      ],
      "source": [
        "evaluate_model(sound_and_prec_abs_model)"
      ]
    },
    {
      "cell_type": "markdown",
      "id": "ruLTvWxKUCbV",
      "metadata": {
        "id": "ruLTvWxKUCbV"
      },
      "source": [
        "## Studying Soundness vs Precision Tradeoff\n",
        "\n",
        "Analyze the soundness/precision tradeoff by experimenting with different ratios, 20:1, 10:1, etc. Plot the results and report your observations."
      ]
    },
    {
      "cell_type": "code",
      "execution_count": 34,
      "id": "fZQ8pvgSUCbV",
      "metadata": {
        "id": "fZQ8pvgSUCbV",
        "outputId": "574ca750-58ad-4f33-a364-bb9445c4136c",
        "colab": {
          "base_uri": "https://localhost:8080/",
          "height": 482
        }
      },
      "outputs": [
        {
          "output_type": "stream",
          "name": "stdout",
          "text": [
            "225507.265625\n"
          ]
        },
        {
          "output_type": "display_data",
          "data": {
            "text/plain": [
              "<Figure size 640x480 with 1 Axes>"
            ],
            "image/png": "[encoded data removed]"
          },
          "metadata": {}
        }
      ],
      "source": [
        "f = lambda x : torch.abs(x)\n",
        "def train_sound_and_prec_abs_model(model, opt, epochs, intervs, abs_intervs, soundness_weight, precision_weight):\n",
        "    loss_history = []\n",
        "\n",
        "    for _ in range(epochs):\n",
        "        opt.zero_grad()\n",
        "        outp = model(intervs)\n",
        "\n",
        "        # Write the same soundness loss as before here\n",
        "        soundness_loss = torch.sum(dl2lib.And([dl2lib.LEQ(f(intervs[:,0]), outp[:,0]), dl2lib.GEQ(outp[:,1], f(intervs[:,1]))]).loss(outp))\n",
        "        # Write the precision loss here\n",
        "        precision_loss = torch.sum(torch.abs(f(intervs) - outp))\n",
        "\n",
        "        loss = soundness_weight * soundness_loss + precision_weight * precision_loss\n",
        "        loss_history.append(loss.item())\n",
        "        loss.backward()\n",
        "        opt.step()\n",
        "\n",
        "    return loss_history\n",
        "\n",
        "sound_and_prec_abs_model = IntervalNN(1,[8,16,8],2)\n",
        "lr = 0.04\n",
        "epochs = 500\n",
        "opt = torch.optim.Adam(sound_and_prec_abs_model.parameters(), lr)\n",
        "sw = 20\n",
        "pw = 1\n",
        "loss_history = train_sound_and_prec_abs_model(sound_and_prec_abs_model, opt, epochs, intervs, abs_ints, sw, pw)\n",
        "print(loss_history[-1])\n",
        "\n",
        "plt.plot(loss_history)\n",
        "plt.xlabel('optimization step')\n",
        "plt.ylabel('loss');\n",
        "plt.show()"
      ]
    }
  ],
  "metadata": {
    "colab": {
      "provenance": [],
      "gpuType": "T4"
    },
    "kernelspec": {
      "display_name": "Python 3",
      "name": "python3"
    },
    "language_info": {
      "codemirror_mode": {
        "name": "ipython",
        "version": 3
      },
      "file_extension": ".py",
      "mimetype": "text/x-python",
      "name": "python",
      "nbconvert_exporter": "python",
      "pygments_lexer": "ipython3",
      "version": "3.11.2"
    },
    "accelerator": "GPU"
  },
  "nbformat": 4,
  "nbformat_minor": 5
}